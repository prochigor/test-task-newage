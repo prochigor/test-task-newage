{
 "cells": [
  {
   "cell_type": "markdown",
   "source": [
    "# Level 2 get dataframes from bigquery public-data:google_analytics_sample"
   ],
   "metadata": {
    "collapsed": false
   },
   "id": "583ba47d8b323a5f"
  },
  {
   "cell_type": "markdown",
   "source": [
    "Getting concurrent request to google big data API and create dataframe"
   ],
   "metadata": {
    "collapsed": false
   },
   "id": "4e0e21e8f750d55f"
  },
  {
   "cell_type": "code",
   "execution_count": 262,
   "outputs": [
    {
     "data": {
      "text/plain": "      visitNumber     visitId  visitStartTime      date  timeOnSite  hits  \\\n0               1  1501619106      1501619106  20170801        <NA>     1   \n1               1  1501638962      1501638962  20170801        <NA>     1   \n2               3  1501598053      1501598053  20170801        <NA>     1   \n3               1  1501596233      1501596233  20170801        <NA>     1   \n4               1  1501598282      1501598282  20170801        <NA>     1   \n...           ...         ...             ...       ...         ...   ...   \n7663            1  1501603556      1501603556  20170801          83     5   \n7664            7  1501634127      1501634127  20170801          98     5   \n7665            4  1501624586      1501624586  20170801          85     5   \n7666            3  1501606850      1501606850  20170801         778     5   \n7667            1  1501605656      1501605656  20170801         102     5   \n\n      trafficSource  browser      subContinent        country  \\\n0                 1   Safari    Western Europe    Netherlands   \n1                 1   Safari  Northern America  United States   \n2                 1   Safari  Northern America  United States   \n3                 1   Safari  Northern America  United States   \n4                 1   Chrome  Northern America  United States   \n...             ...      ...               ...            ...   \n7663              5   Chrome  Northern America  United States   \n7664              5   Chrome  Northern America  United States   \n7665              5   Chrome  Northern America  United States   \n7666              3   Chrome  Northern America  United States   \n7667              5  Firefox  Northern America  United States   \n\n            fullVisitorId channelGrouping  \n0     6229020639379611564  Organic Search  \n1     4702728182802231974          Direct  \n2     5964000044560393406          Direct  \n3      171086260572741738  Organic Search  \n4     1964635174785924193  Organic Search  \n...                   ...             ...  \n7663  4660658311737191205          Direct  \n7664  5199370466032130686     Paid Search  \n7665  3824960045676496699          Direct  \n7666  1580431283728289185          Direct  \n7667  0869177065893452364          Direct  \n\n[7668 rows x 12 columns]",
      "text/html": "<div>\n<style scoped>\n    .dataframe tbody tr th:only-of-type {\n        vertical-align: middle;\n    }\n\n    .dataframe tbody tr th {\n        vertical-align: top;\n    }\n\n    .dataframe thead th {\n        text-align: right;\n    }\n</style>\n<table border=\"1\" class=\"dataframe\">\n  <thead>\n    <tr style=\"text-align: right;\">\n      <th></th>\n      <th>visitNumber</th>\n      <th>visitId</th>\n      <th>visitStartTime</th>\n      <th>date</th>\n      <th>timeOnSite</th>\n      <th>hits</th>\n      <th>trafficSource</th>\n      <th>browser</th>\n      <th>subContinent</th>\n      <th>country</th>\n      <th>fullVisitorId</th>\n      <th>channelGrouping</th>\n    </tr>\n  </thead>\n  <tbody>\n    <tr>\n      <th>0</th>\n      <td>1</td>\n      <td>1501619106</td>\n      <td>1501619106</td>\n      <td>20170801</td>\n      <td>&lt;NA&gt;</td>\n      <td>1</td>\n      <td>1</td>\n      <td>Safari</td>\n      <td>Western Europe</td>\n      <td>Netherlands</td>\n      <td>6229020639379611564</td>\n      <td>Organic Search</td>\n    </tr>\n    <tr>\n      <th>1</th>\n      <td>1</td>\n      <td>1501638962</td>\n      <td>1501638962</td>\n      <td>20170801</td>\n      <td>&lt;NA&gt;</td>\n      <td>1</td>\n      <td>1</td>\n      <td>Safari</td>\n      <td>Northern America</td>\n      <td>United States</td>\n      <td>4702728182802231974</td>\n      <td>Direct</td>\n    </tr>\n    <tr>\n      <th>2</th>\n      <td>3</td>\n      <td>1501598053</td>\n      <td>1501598053</td>\n      <td>20170801</td>\n      <td>&lt;NA&gt;</td>\n      <td>1</td>\n      <td>1</td>\n      <td>Safari</td>\n      <td>Northern America</td>\n      <td>United States</td>\n      <td>5964000044560393406</td>\n      <td>Direct</td>\n    </tr>\n    <tr>\n      <th>3</th>\n      <td>1</td>\n      <td>1501596233</td>\n      <td>1501596233</td>\n      <td>20170801</td>\n      <td>&lt;NA&gt;</td>\n      <td>1</td>\n      <td>1</td>\n      <td>Safari</td>\n      <td>Northern America</td>\n      <td>United States</td>\n      <td>171086260572741738</td>\n      <td>Organic Search</td>\n    </tr>\n    <tr>\n      <th>4</th>\n      <td>1</td>\n      <td>1501598282</td>\n      <td>1501598282</td>\n      <td>20170801</td>\n      <td>&lt;NA&gt;</td>\n      <td>1</td>\n      <td>1</td>\n      <td>Chrome</td>\n      <td>Northern America</td>\n      <td>United States</td>\n      <td>1964635174785924193</td>\n      <td>Organic Search</td>\n    </tr>\n    <tr>\n      <th>...</th>\n      <td>...</td>\n      <td>...</td>\n      <td>...</td>\n      <td>...</td>\n      <td>...</td>\n      <td>...</td>\n      <td>...</td>\n      <td>...</td>\n      <td>...</td>\n      <td>...</td>\n      <td>...</td>\n      <td>...</td>\n    </tr>\n    <tr>\n      <th>7663</th>\n      <td>1</td>\n      <td>1501603556</td>\n      <td>1501603556</td>\n      <td>20170801</td>\n      <td>83</td>\n      <td>5</td>\n      <td>5</td>\n      <td>Chrome</td>\n      <td>Northern America</td>\n      <td>United States</td>\n      <td>4660658311737191205</td>\n      <td>Direct</td>\n    </tr>\n    <tr>\n      <th>7664</th>\n      <td>7</td>\n      <td>1501634127</td>\n      <td>1501634127</td>\n      <td>20170801</td>\n      <td>98</td>\n      <td>5</td>\n      <td>5</td>\n      <td>Chrome</td>\n      <td>Northern America</td>\n      <td>United States</td>\n      <td>5199370466032130686</td>\n      <td>Paid Search</td>\n    </tr>\n    <tr>\n      <th>7665</th>\n      <td>4</td>\n      <td>1501624586</td>\n      <td>1501624586</td>\n      <td>20170801</td>\n      <td>85</td>\n      <td>5</td>\n      <td>5</td>\n      <td>Chrome</td>\n      <td>Northern America</td>\n      <td>United States</td>\n      <td>3824960045676496699</td>\n      <td>Direct</td>\n    </tr>\n    <tr>\n      <th>7666</th>\n      <td>3</td>\n      <td>1501606850</td>\n      <td>1501606850</td>\n      <td>20170801</td>\n      <td>778</td>\n      <td>5</td>\n      <td>3</td>\n      <td>Chrome</td>\n      <td>Northern America</td>\n      <td>United States</td>\n      <td>1580431283728289185</td>\n      <td>Direct</td>\n    </tr>\n    <tr>\n      <th>7667</th>\n      <td>1</td>\n      <td>1501605656</td>\n      <td>1501605656</td>\n      <td>20170801</td>\n      <td>102</td>\n      <td>5</td>\n      <td>5</td>\n      <td>Firefox</td>\n      <td>Northern America</td>\n      <td>United States</td>\n      <td>0869177065893452364</td>\n      <td>Direct</td>\n    </tr>\n  </tbody>\n</table>\n<p>7668 rows × 12 columns</p>\n</div>"
     },
     "execution_count": 262,
     "metadata": {},
     "output_type": "execute_result"
    }
   ],
   "source": [
    "import concurrent.futures\n",
    "import os\n",
    "\n",
    "from google.cloud import bigquery\n",
    "import pandas as pd\n",
    "\n",
    "creds = \"level2_key.json\"\n",
    "os.environ[\"GOOGLE_APPLICATION_CREDENTIALS\"] = creds\n",
    "\n",
    "client = bigquery.Client()\n",
    "\n",
    "\n",
    "def fetch_data(limit):\n",
    "    offset = limit\n",
    "    sql_query = f\"\"\"\n",
    "    SELECT visitNumber, visitId, visitStartTime, date, totals.timeOnSite, totals.hits, totals.pageviews \n",
    "    trafficSource, device.browser, geoNetwork.subContinent, geoNetwork.country, fullVisitorId, channelGrouping\n",
    "    FROM `bigquery-public-data.google_analytics_sample.ga_sessions_20170801`\n",
    "    LIMIT 1000 OFFSET {offset}\n",
    "    \"\"\"\n",
    "    return client.query(sql_query).to_dataframe()\n",
    "\n",
    "\n",
    "limits = [0, 1000, 2000]\n",
    "\n",
    "with concurrent.futures.ThreadPoolExecutor() as executor:\n",
    "    futures = [executor.submit(fetch_data, limit) for limit in limits]\n",
    "\n",
    "    for future in concurrent.futures.as_completed(futures):\n",
    "        result = future.result()\n",
    "        if 'df_gns' not in locals():\n",
    "            df_gns = result\n",
    "        else:\n",
    "            df_gns = pd.concat([df_gns, result], ignore_index=True)\n",
    "\n",
    "df_gns"
   ],
   "metadata": {
    "collapsed": false,
    "ExecuteTime": {
     "end_time": "2024-02-04T23:33:46.951950600Z",
     "start_time": "2024-02-04T23:33:45.085390400Z"
    }
   },
   "id": "11a8689bc6a66589"
  },
  {
   "cell_type": "code",
   "execution_count": 217,
   "outputs": [
    {
     "data": {
      "text/plain": "                      totalTimeOnSite     popularBrowser  popularChannel  \\\ncountry                                                                    \n(not set)                          92             Safari          Social   \nAlgeria                           537              Opera          Social   \nArgentina                           0            Firefox          Social   \nAustralia                        6245             Safari          Social   \nAustria                           426  Internet Explorer  Organic Search   \n...                               ...                ...             ...   \nUnited Arab Emirates             1700             Safari          Social   \nUnited Kingdom                  15098    Safari (in-app)          Social   \nUnited States                  302259    Safari (in-app)          Social   \nVenezuela                        4379             Chrome          Social   \nVietnam                           431             Safari          Social   \n\n                      countPopularChannel  \ncountry                                    \n(not set)                               4  \nAlgeria                                 4  \nArgentina                               5  \nAustralia                              33  \nAustria                                 6  \n...                                   ...  \nUnited Arab Emirates                    5  \nUnited Kingdom                        101  \nUnited States                         571  \nVenezuela                               2  \nVietnam                                 9  \n\n[94 rows x 4 columns]",
      "text/html": "<div>\n<style scoped>\n    .dataframe tbody tr th:only-of-type {\n        vertical-align: middle;\n    }\n\n    .dataframe tbody tr th {\n        vertical-align: top;\n    }\n\n    .dataframe thead th {\n        text-align: right;\n    }\n</style>\n<table border=\"1\" class=\"dataframe\">\n  <thead>\n    <tr style=\"text-align: right;\">\n      <th></th>\n      <th>totalTimeOnSite</th>\n      <th>popularBrowser</th>\n      <th>popularChannel</th>\n      <th>countPopularChannel</th>\n    </tr>\n    <tr>\n      <th>country</th>\n      <th></th>\n      <th></th>\n      <th></th>\n      <th></th>\n    </tr>\n  </thead>\n  <tbody>\n    <tr>\n      <th>(not set)</th>\n      <td>92</td>\n      <td>Safari</td>\n      <td>Social</td>\n      <td>4</td>\n    </tr>\n    <tr>\n      <th>Algeria</th>\n      <td>537</td>\n      <td>Opera</td>\n      <td>Social</td>\n      <td>4</td>\n    </tr>\n    <tr>\n      <th>Argentina</th>\n      <td>0</td>\n      <td>Firefox</td>\n      <td>Social</td>\n      <td>5</td>\n    </tr>\n    <tr>\n      <th>Australia</th>\n      <td>6245</td>\n      <td>Safari</td>\n      <td>Social</td>\n      <td>33</td>\n    </tr>\n    <tr>\n      <th>Austria</th>\n      <td>426</td>\n      <td>Internet Explorer</td>\n      <td>Organic Search</td>\n      <td>6</td>\n    </tr>\n    <tr>\n      <th>...</th>\n      <td>...</td>\n      <td>...</td>\n      <td>...</td>\n      <td>...</td>\n    </tr>\n    <tr>\n      <th>United Arab Emirates</th>\n      <td>1700</td>\n      <td>Safari</td>\n      <td>Social</td>\n      <td>5</td>\n    </tr>\n    <tr>\n      <th>United Kingdom</th>\n      <td>15098</td>\n      <td>Safari (in-app)</td>\n      <td>Social</td>\n      <td>101</td>\n    </tr>\n    <tr>\n      <th>United States</th>\n      <td>302259</td>\n      <td>Safari (in-app)</td>\n      <td>Social</td>\n      <td>571</td>\n    </tr>\n    <tr>\n      <th>Venezuela</th>\n      <td>4379</td>\n      <td>Chrome</td>\n      <td>Social</td>\n      <td>2</td>\n    </tr>\n    <tr>\n      <th>Vietnam</th>\n      <td>431</td>\n      <td>Safari</td>\n      <td>Social</td>\n      <td>9</td>\n    </tr>\n  </tbody>\n</table>\n<p>94 rows × 4 columns</p>\n</div>"
     },
     "execution_count": 217,
     "metadata": {},
     "output_type": "execute_result"
    }
   ],
   "source": [
    "time_on_site_in_country = df_gns.groupby(\"country\")[\"timeOnSite\"].sum()\n",
    "popular_browsers_in_countries = df_gns.groupby(\"country\")[\"browser\"].max()\n",
    "popular_channel_in_country = df_gns.groupby(\"country\")[\"channelGrouping\"].max()\n",
    "\n",
    "count_result = df_gns.groupby([\"country\", \"channelGrouping\"]).size().reset_index(name=\"count\")\n",
    "count_popular_channel_in_country = count_result.groupby(\"country\")[\"count\"].max()\n",
    "\n",
    "country_df = pd.DataFrame({\n",
    "    \"totalTimeOnSite\": time_on_site_in_country,\n",
    "    \"popularBrowser\": popular_browsers_in_countries,\n",
    "    \"popularChannel\": popular_channel_in_country,\n",
    "    \"countPopularChannel\": count_popular_channel_in_country\n",
    "})\n",
    "country_df"
   ],
   "metadata": {
    "collapsed": false,
    "ExecuteTime": {
     "end_time": "2024-02-04T22:24:14.073959300Z",
     "start_time": "2024-02-04T22:24:13.948431300Z"
    }
   },
   "id": "69787fe13921e936"
  },
  {
   "cell_type": "code",
   "execution_count": 238,
   "outputs": [
    {
     "data": {
      "text/plain": "                          averageTimeOnBrowser  count_use_channels  \\\nbrowser                                                              \nAndroid Browser                           36.0                   4   \nAndroid Webview                     223.090909                  38   \nChrome                               346.37793                3800   \nCoc Coc                                   <NA>                   4   \nEdge                                238.454545                  46   \nFirefox                                266.475                 202   \nInternet Explorer                        310.5                 108   \nMozilla Compatible Agent                  <NA>                   2   \nNokia Browser                            177.0                   4   \nOpera                                    353.1                  32   \nOpera Mini                               172.8                  42   \nSafari                              241.061453                 794   \nSafari (in-app)                     241.333333                  20   \nUC Browser                               105.0                  12   \nYaBrowser                                193.0                   4   \n\n                         popularChannel  countPopularChannel  visits  \nbrowser                                                               \nAndroid Browser                Referral                    2       4  \nAndroid Webview                  Social                   10      38  \nChrome                           Social                 1866    3800  \nCoc Coc                          Social                    2       4  \nEdge                             Social                   22      46  \nFirefox                          Social                  112     202  \nInternet Explorer                Social                   40     108  \nMozilla Compatible Agent         Social                    2       2  \nNokia Browser                  Referral                    2       4  \nOpera                            Social                   10      32  \nOpera Mini                       Social                   20      42  \nSafari                           Social                  602     794  \nSafari (in-app)                  Social                   10      20  \nUC Browser                       Social                   10      12  \nYaBrowser                        Social                    2       4  ",
      "text/html": "<div>\n<style scoped>\n    .dataframe tbody tr th:only-of-type {\n        vertical-align: middle;\n    }\n\n    .dataframe tbody tr th {\n        vertical-align: top;\n    }\n\n    .dataframe thead th {\n        text-align: right;\n    }\n</style>\n<table border=\"1\" class=\"dataframe\">\n  <thead>\n    <tr style=\"text-align: right;\">\n      <th></th>\n      <th>averageTimeOnBrowser</th>\n      <th>count_use_channels</th>\n      <th>popularChannel</th>\n      <th>countPopularChannel</th>\n      <th>visits</th>\n    </tr>\n    <tr>\n      <th>browser</th>\n      <th></th>\n      <th></th>\n      <th></th>\n      <th></th>\n      <th></th>\n    </tr>\n  </thead>\n  <tbody>\n    <tr>\n      <th>Android Browser</th>\n      <td>36.0</td>\n      <td>4</td>\n      <td>Referral</td>\n      <td>2</td>\n      <td>4</td>\n    </tr>\n    <tr>\n      <th>Android Webview</th>\n      <td>223.090909</td>\n      <td>38</td>\n      <td>Social</td>\n      <td>10</td>\n      <td>38</td>\n    </tr>\n    <tr>\n      <th>Chrome</th>\n      <td>346.37793</td>\n      <td>3800</td>\n      <td>Social</td>\n      <td>1866</td>\n      <td>3800</td>\n    </tr>\n    <tr>\n      <th>Coc Coc</th>\n      <td>&lt;NA&gt;</td>\n      <td>4</td>\n      <td>Social</td>\n      <td>2</td>\n      <td>4</td>\n    </tr>\n    <tr>\n      <th>Edge</th>\n      <td>238.454545</td>\n      <td>46</td>\n      <td>Social</td>\n      <td>22</td>\n      <td>46</td>\n    </tr>\n    <tr>\n      <th>Firefox</th>\n      <td>266.475</td>\n      <td>202</td>\n      <td>Social</td>\n      <td>112</td>\n      <td>202</td>\n    </tr>\n    <tr>\n      <th>Internet Explorer</th>\n      <td>310.5</td>\n      <td>108</td>\n      <td>Social</td>\n      <td>40</td>\n      <td>108</td>\n    </tr>\n    <tr>\n      <th>Mozilla Compatible Agent</th>\n      <td>&lt;NA&gt;</td>\n      <td>2</td>\n      <td>Social</td>\n      <td>2</td>\n      <td>2</td>\n    </tr>\n    <tr>\n      <th>Nokia Browser</th>\n      <td>177.0</td>\n      <td>4</td>\n      <td>Referral</td>\n      <td>2</td>\n      <td>4</td>\n    </tr>\n    <tr>\n      <th>Opera</th>\n      <td>353.1</td>\n      <td>32</td>\n      <td>Social</td>\n      <td>10</td>\n      <td>32</td>\n    </tr>\n    <tr>\n      <th>Opera Mini</th>\n      <td>172.8</td>\n      <td>42</td>\n      <td>Social</td>\n      <td>20</td>\n      <td>42</td>\n    </tr>\n    <tr>\n      <th>Safari</th>\n      <td>241.061453</td>\n      <td>794</td>\n      <td>Social</td>\n      <td>602</td>\n      <td>794</td>\n    </tr>\n    <tr>\n      <th>Safari (in-app)</th>\n      <td>241.333333</td>\n      <td>20</td>\n      <td>Social</td>\n      <td>10</td>\n      <td>20</td>\n    </tr>\n    <tr>\n      <th>UC Browser</th>\n      <td>105.0</td>\n      <td>12</td>\n      <td>Social</td>\n      <td>10</td>\n      <td>12</td>\n    </tr>\n    <tr>\n      <th>YaBrowser</th>\n      <td>193.0</td>\n      <td>4</td>\n      <td>Social</td>\n      <td>2</td>\n      <td>4</td>\n    </tr>\n  </tbody>\n</table>\n</div>"
     },
     "execution_count": 238,
     "metadata": {},
     "output_type": "execute_result"
    }
   ],
   "source": [
    "average_time_on_site_on_browser = df_gns.groupby(\"browser\")[\"timeOnSite\"].mean()\n",
    "count_using_browser_for_channels = df_gns.groupby(\"browser\")[\"channelGrouping\"].count()\n",
    "popular_channel_on_browser = df_gns.groupby(\"browser\")[\"channelGrouping\"].max()\n",
    "\n",
    "count_browser_result = df_gns.groupby([\"browser\", \"channelGrouping\"]).size().reset_index(name=\"count\")\n",
    "count_popular_channel_on_browser = count_browser_result.groupby(\"browser\")[\"count\"].max()\n",
    "\n",
    "count_visits_from_browser = df_gns.groupby(\"browser\")[\"visitNumber\"].count()\n",
    "\n",
    "browser_df = pd.DataFrame({\n",
    "    \"averageTimeOnBrowser\": average_time_on_site_on_browser,\n",
    "    \"count_use_channels\": count_using_browser_for_channels,\n",
    "    \"popularChannel\": popular_channel_on_browser,\n",
    "    \"countPopularChannel\": count_popular_channel_on_browser,\n",
    "    \"visits\": count_visits_from_browser\n",
    "})\n",
    "browser_df"
   ],
   "metadata": {
    "collapsed": false,
    "ExecuteTime": {
     "end_time": "2024-02-04T22:56:18.799627700Z",
     "start_time": "2024-02-04T22:56:18.770015500Z"
    }
   },
   "id": "5a8ab143c4999756"
  },
  {
   "cell_type": "code",
   "execution_count": 242,
   "outputs": [
    {
     "data": {
      "text/plain": "                 timeOnChannel  countBrowserForChannel   popularBrowser\nchannelGrouping                                                        \nAffiliates                  44                      78           Safari\nDirect                     402                     594  Safari (in-app)\nDisplay                     54                      66           Safari\nOrganic Search            1254                    1866       UC Browser\nPaid Search                 96                     112  Safari (in-app)\nReferral                   654                     838        YaBrowser\nSocial                     116                     246        YaBrowser",
      "text/html": "<div>\n<style scoped>\n    .dataframe tbody tr th:only-of-type {\n        vertical-align: middle;\n    }\n\n    .dataframe tbody tr th {\n        vertical-align: top;\n    }\n\n    .dataframe thead th {\n        text-align: right;\n    }\n</style>\n<table border=\"1\" class=\"dataframe\">\n  <thead>\n    <tr style=\"text-align: right;\">\n      <th></th>\n      <th>timeOnChannel</th>\n      <th>countBrowserForChannel</th>\n      <th>popularBrowser</th>\n    </tr>\n    <tr>\n      <th>channelGrouping</th>\n      <th></th>\n      <th></th>\n      <th></th>\n    </tr>\n  </thead>\n  <tbody>\n    <tr>\n      <th>Affiliates</th>\n      <td>44</td>\n      <td>78</td>\n      <td>Safari</td>\n    </tr>\n    <tr>\n      <th>Direct</th>\n      <td>402</td>\n      <td>594</td>\n      <td>Safari (in-app)</td>\n    </tr>\n    <tr>\n      <th>Display</th>\n      <td>54</td>\n      <td>66</td>\n      <td>Safari</td>\n    </tr>\n    <tr>\n      <th>Organic Search</th>\n      <td>1254</td>\n      <td>1866</td>\n      <td>UC Browser</td>\n    </tr>\n    <tr>\n      <th>Paid Search</th>\n      <td>96</td>\n      <td>112</td>\n      <td>Safari (in-app)</td>\n    </tr>\n    <tr>\n      <th>Referral</th>\n      <td>654</td>\n      <td>838</td>\n      <td>YaBrowser</td>\n    </tr>\n    <tr>\n      <th>Social</th>\n      <td>116</td>\n      <td>246</td>\n      <td>YaBrowser</td>\n    </tr>\n  </tbody>\n</table>\n</div>"
     },
     "execution_count": 242,
     "metadata": {},
     "output_type": "execute_result"
    }
   ],
   "source": [
    "time_on_channel = df_gns.groupby(\"channelGrouping\")[\"timeOnSite\"].count()\n",
    "popular_browsers_for_channel = df_gns.groupby(\"channelGrouping\")[\"browser\"].max()\n",
    "\n",
    "count_channel_result = df_gns.groupby([\"channelGrouping\", \"browser\"]).size().reset_index(name=\"count\")\n",
    "count_popular_channel_on_browser = count_channel_result.groupby(\"channelGrouping\")[\"count\"].max()\n",
    "\n",
    "channel_df = pd.DataFrame({\n",
    "    \"timeOnChannel\": time_on_channel,\n",
    "    \"countBrowserForChannel\": count_popular_channel_on_browser,\n",
    "    \"popularBrowser\": popular_browsers_for_channel,\n",
    "})\n",
    "channel_df"
   ],
   "metadata": {
    "collapsed": false,
    "ExecuteTime": {
     "end_time": "2024-02-04T23:04:35.953362Z",
     "start_time": "2024-02-04T23:04:35.921979900Z"
    }
   },
   "id": "eafead5fe6f7fa7d"
  },
  {
   "cell_type": "code",
   "execution_count": 261,
   "outputs": [],
   "source": [
    "import gspread\n",
    "import pandas as pd\n",
    "from gspread_dataframe import set_with_dataframe\n",
    "from oauth2client.service_account import ServiceAccountCredentials\n",
    "from concurrent.futures import ThreadPoolExecutor\n",
    "\n",
    "def connection(worksheet: str) -> gspread:\n",
    "    credential = ServiceAccountCredentials.from_json_keyfile_name(\"keys.json\")\n",
    "    file = gspread.authorize(credential)\n",
    "    workbook = file.open(\"BigQuery\")\n",
    "    sheet = workbook.worksheet(worksheet)\n",
    "    return sheet\n",
    "\n",
    "def write_to_google_sheet(df: pd.DataFrame, worksheet: str) -> None:\n",
    "    sheet = connection(worksheet)\n",
    "    sheet.clear()\n",
    "    set_with_dataframe(sheet, df, include_index=True)\n",
    "\n",
    "tasks = [\n",
    "    (country_df, \"Country\"),\n",
    "    (browser_df, \"Browser\"),\n",
    "    (channel_df, \"Channel\")\n",
    "]\n",
    "\n",
    "def write_concurrently(task):\n",
    "    write_to_google_sheet(task[0], task[1])\n",
    "\n",
    "with ThreadPoolExecutor(max_workers=3) as executor:\n",
    "    executor.map(write_concurrently, tasks)"
   ],
   "metadata": {
    "collapsed": false,
    "ExecuteTime": {
     "end_time": "2024-02-04T23:31:27.289650100Z",
     "start_time": "2024-02-04T23:31:22.495254400Z"
    }
   },
   "id": "e7401b4bb182e5d9"
  },
  {
   "cell_type": "markdown",
   "source": [],
   "metadata": {
    "collapsed": false
   },
   "id": "7bcb459df25fb2f4"
  }
 ],
 "metadata": {
  "kernelspec": {
   "display_name": "Python 3",
   "language": "python",
   "name": "python3"
  },
  "language_info": {
   "codemirror_mode": {
    "name": "ipython",
    "version": 2
   },
   "file_extension": ".py",
   "mimetype": "text/x-python",
   "name": "python",
   "nbconvert_exporter": "python",
   "pygments_lexer": "ipython2",
   "version": "2.7.6"
  }
 },
 "nbformat": 4,
 "nbformat_minor": 5
}
